{
 "cells": [
  {
   "cell_type": "code",
   "execution_count": null,
   "metadata": {
    "collapsed": true,
    "pycharm": {
     "is_executing": true
    }
   },
   "outputs": [],
   "source": [
    "import pandas as pd\n",
    "import matplotlib.pyplot as plt"
   ]
  },
  {
   "cell_type": "code",
   "execution_count": null,
   "outputs": [],
   "source": [
    "def plot_data(filename):\n",
    "    data = pd.read_csv(filename, header=None, names=['timestamp',\n",
    "                                                     'raw_head_x', 'raw_head_y', 'raw_head_z', 'raw_shoulder_x',\n",
    "                                                     'raw_shoulder_y', 'raw_shoulder_z',\n",
    "                                                     'ema_head_x', 'ema_head_y', 'ema_head_z', 'ema_shoulder_x',\n",
    "                                                     'ema_shoulder_y', 'ema_shoulder_z',\n",
    "                                                     'moving_avg_head_x', 'moving_avg_head_y', 'moving_avg_head_z',\n",
    "                                                     'moving_avg_shoulder_x', 'moving_avg_shoulder_y',\n",
    "                                                     'moving_avg_shoulder_z'])\n",
    "\n",
    "    fig, axs = plt.subplots(3, 2, figsize=(15, 15))\n",
    "    fig.subplots_adjust(hspace=0.3)\n",
    "\n",
    "    # Head X\n",
    "    axs[0, 0].plot(data['timestamp'], data['raw_head_x'], label='Raw')\n",
    "    axs[0, 0].plot(data['timestamp'], data['ema_head_x'], label='EMA')\n",
    "    axs[0, 0].plot(data['timestamp'], data['moving_avg_head_x'], label='Moving Average')\n",
    "    axs[0, 0].set_title('Head X')\n",
    "    axs[0, 0].legend()\n",
    "\n",
    "    # Head Y\n",
    "    axs[0, 1].plot(data['timestamp'], data['raw_head_y'], label='Raw')\n",
    "    axs[0, 1].plot(data['timestamp'], data['ema_head_y'], label='EMA')\n",
    "    axs[0, 1].plot(data['timestamp'], data['moving_avg_head_y'], label='Moving Average')\n",
    "    axs[0, 1].set_title('Head Y')\n",
    "    axs[0, 1].legend()\n",
    "\n",
    "    # Head Z\n",
    "    axs[1, 0].plot(data['timestamp'], data['raw_head_z'], label='Raw')\n",
    "    axs[1, 0].plot(data['timestamp'], data['ema_head_z'], label='EMA')\n",
    "    axs[1, 0].plot(data['timestamp'], data['moving_avg_head_z'], label='Moving Average')\n",
    "    axs[1, 0].set_title('Head Z')\n",
    "    axs[1, 0].legend()\n",
    "\n",
    "    # Shoulder X\n",
    "    axs[1, 1].plot(data['timestamp'], data['raw_shoulder_x'], label='Raw')\n",
    "    axs[1, 1].plot(data['timestamp'], data['ema_shoulder_x'], label='EMA')\n",
    "    axs[1, 1].plot(data['timestamp'], data['moving_avg_shoulder_x'], label='Moving Average')\n",
    "    axs[1, 1].plot(data['timestamp'], data['kalman_shoulder_x'], label='Kalman')\n",
    "    axs[1, 1].set_title('Shoulder X')\n",
    "    axs[1, 1].legend()\n",
    "\n",
    "    # Shoulder Y\n",
    "    axs[2, 0].plot(data['timestamp'], data['raw_shoulder_y'], label='Raw')\n",
    "    axs[2, 0].plot(data['timestamp'], data['ema_shoulder_y'], label='EMA')\n",
    "    axs[2, 0].plot(data['timestamp'], data['moving_avg_shoulder_y'], label='Moving Average')\n",
    "    axs[2, 0].set_title('Shoulder Y')\n",
    "    axs[2, 0].legend()\n",
    "\n",
    "    # Shoulder Z\n",
    "    axs[0, 2].plot(data['timestamp'], data['raw_shoulder_z'], label='Raw')\n",
    "    axs[0, 2].plot(data['timestamp'], data['ema_shoulder_z'], label='EMA')\n",
    "    axs[0, 2].plot(data['timestamp'], data['moving_avg_shoulder_z'], label='Moving Average')\n",
    "    axs[0, 2].set_title('Shoulder Z')\n",
    "    axs[0, 2].legend()\n",
    "\n",
    "    plt.tight_layout()\n",
    "    plt.show()"
   ],
   "metadata": {
    "collapsed": false
   }
  },
  {
   "cell_type": "code",
   "execution_count": null,
   "outputs": [],
   "source": [
    "\n",
    "# Load and plot the data\n",
    "plot_data('vision_data.csv')"
   ],
   "metadata": {
    "collapsed": false
   }
  }
 ],
 "metadata": {
  "kernelspec": {
   "display_name": "Python 3",
   "language": "python",
   "name": "python3"
  },
  "language_info": {
   "codemirror_mode": {
    "name": "ipython",
    "version": 2
   },
   "file_extension": ".py",
   "mimetype": "text/x-python",
   "name": "python",
   "nbconvert_exporter": "python",
   "pygments_lexer": "ipython2",
   "version": "2.7.6"
  }
 },
 "nbformat": 4,
 "nbformat_minor": 0
}
